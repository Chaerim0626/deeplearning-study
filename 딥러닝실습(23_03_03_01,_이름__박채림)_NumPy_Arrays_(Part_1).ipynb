{
  "nbformat": 4,
  "nbformat_minor": 0,
  "metadata": {
    "colab": {
      "provenance": [],
      "include_colab_link": true
    },
    "kernelspec": {
      "name": "python3",
      "display_name": "Python 3"
    },
    "language_info": {
      "name": "python"
    }
  },
  "cells": [
    {
      "cell_type": "markdown",
      "metadata": {
        "id": "view-in-github",
        "colab_type": "text"
      },
      "source": [
        "<a href=\"https://colab.research.google.com/github/Chaerim0626/deeplearning-study/blob/main/%EB%94%A5%EB%9F%AC%EB%8B%9D%EC%8B%A4%EC%8A%B5(23_03_03_01%2C_%EC%9D%B4%EB%A6%84__%EB%B0%95%EC%B1%84%EB%A6%BC)_NumPy_Arrays_(Part_1).ipynb\" target=\"_parent\"><img src=\"https://colab.research.google.com/assets/colab-badge.svg\" alt=\"Open In Colab\"/></a>"
      ]
    },
    {
      "cell_type": "markdown",
      "source": [
        "# NumPy Arrays - Part 1<br>\n",
        "\n",
        "by uramoon@kw.ac.kr <br>\n",
        "원본 출처: https://www.learnpython.org/ (<a href=\"https://raw.githubusercontent.com/ronreiter/interactive-tutorials/master/LICENSE\">Apache 2.0 License</a>)"
      ],
      "metadata": {
        "id": "E_C5HEit3yBY"
      }
    },
    {
      "cell_type": "markdown",
      "source": [
        "## 리스트로부터 배열 생성\n",
        "NumPy 배열은 파이썬 리스트와 비슷하지만 전체 원소에 대해 계산을 수행할 때 \n",
        "빠릅니다."
      ],
      "metadata": {
        "id": "FWepzYeR372G"
      }
    },
    {
      "cell_type": "code",
      "source": [
        "import os\n",
        "from google.colab import drive\n",
        "drive.mount('/content/drive/')"
      ],
      "metadata": {
        "colab": {
          "base_uri": "https://localhost:8080/"
        },
        "id": "55fpd-7NngHx",
        "outputId": "1df255f9-3ae7-40f4-8326-51bce4a2bf8d"
      },
      "execution_count": 1,
      "outputs": [
        {
          "output_type": "stream",
          "name": "stdout",
          "text": [
            "Mounted at /content/drive/\n"
          ]
        }
      ]
    },
    {
      "cell_type": "code",
      "source": [
        "cd /content/drive/MyDrive/Colab Notebooks/Github"
      ],
      "metadata": {
        "colab": {
          "base_uri": "https://localhost:8080/"
        },
        "id": "nsTS9o9gn9qF",
        "outputId": "39c98d56-676f-40ad-abe3-a21f6cac0cfb"
      },
      "execution_count": 3,
      "outputs": [
        {
          "output_type": "stream",
          "name": "stdout",
          "text": [
            "/content/drive/MyDrive/Colab Notebooks/Github\n"
          ]
        }
      ]
    },
    {
      "cell_type": "code",
      "execution_count": null,
      "metadata": {
        "id": "86vueNUQ3rpz"
      },
      "outputs": [],
      "source": [
        "# 키와 몸무게 리스트\n",
        "height = [1.87,  1.87, 1.82, 1.91, 1.90, 1.85]\n",
        "weight = [81.65, 97.52, 95.25, 92.98, 86.18, 88.45]\n",
        "\n",
        "# NumPy 사용시 필요한 것\n",
        "import numpy as np\n",
        "\n",
        "# 리스트를 NumPy 배열로 변환하는 방법\n",
        "np_height = np.array(height)\n",
        "np_weight = np.array(weight)"
      ]
    },
    {
      "cell_type": "code",
      "source": [
        "# 키 리스트의 내용과 타입 확인\n",
        "print(height)\n",
        "print(type(height))"
      ],
      "metadata": {
        "id": "-qtnE3qFKmzh",
        "colab": {
          "base_uri": "https://localhost:8080/"
        },
        "outputId": "e2eb2fa4-a731-433c-f7b4-d3804c1ba548"
      },
      "execution_count": null,
      "outputs": [
        {
          "output_type": "stream",
          "name": "stdout",
          "text": [
            "[1.87, 1.87, 1.82, 1.91, 1.9, 1.85]\n",
            "<class 'list'>\n"
          ]
        }
      ]
    },
    {
      "cell_type": "markdown",
      "source": [
        "***TODO: 키 배열의 내용과 타입을 출력해보세요.***\n",
        "\n",
        "\n"
      ],
      "metadata": {
        "id": "y9kYKP75K_-_"
      }
    },
    {
      "cell_type": "code",
      "source": [
        "# TODO\n",
        "print(np_height)\n",
        "print(type(np_height))"
      ],
      "metadata": {
        "id": "5EtE3cWGKu_X",
        "colab": {
          "base_uri": "https://localhost:8080/"
        },
        "outputId": "0ed60467-2b0e-4260-eebf-5951dd72d110"
      },
      "execution_count": null,
      "outputs": [
        {
          "output_type": "stream",
          "name": "stdout",
          "text": [
            "[1.87 1.87 1.82 1.91 1.9  1.85]\n",
            "<class 'numpy.ndarray'>\n"
          ]
        }
      ]
    },
    {
      "cell_type": "markdown",
      "source": [
        "## 원소별 계산<br>\n",
        "체질량지수 (BMI) 계산을 해봅시다. (체중 / 키^2)<br>\n",
        "18.5 이하 저체중, 18.5 ~ 25 정상, 25 이상 과체중"
      ],
      "metadata": {
        "id": "hjVqfJ1e4naE"
      }
    },
    {
      "cell_type": "code",
      "source": [
        "# BMI 계산하여 리스트에 저장하기\n",
        "bmi = [] # BMI를 저장할 빈 리스트 생성\n",
        "\n",
        "for i in range(len(height)):\n",
        "  bmi.append(weight[i] / height[i] ** 2)\n",
        "\n",
        "print(bmi)\n",
        "print(type(bmi))"
      ],
      "metadata": {
        "id": "1rUYUkn14wKL",
        "colab": {
          "base_uri": "https://localhost:8080/"
        },
        "outputId": "3adff256-eb2d-4d2e-f671-904ec174ed68"
      },
      "execution_count": null,
      "outputs": [
        {
          "output_type": "stream",
          "name": "stdout",
          "text": [
            "[23.349252194801107, 27.887557550973714, 28.755585074266392, 25.48723993311587, 23.87257617728532, 25.843681519357194]\n",
            "<class 'list'>\n"
          ]
        }
      ]
    },
    {
      "cell_type": "code",
      "source": [
        "# BMI 계산하여 NumPy 배열에 저장하기\n",
        "np_bmi = np.array(bmi)\n",
        "# Calculate bmi\n",
        "np_bmi = np_weight / np_height ** 2\n",
        "\n",
        "# Print the result\n",
        "print(np_bmi)\n",
        "print(type(np_bmi))"
      ],
      "metadata": {
        "id": "4DiEwMnu4qkU",
        "colab": {
          "base_uri": "https://localhost:8080/"
        },
        "outputId": "1ef2f584-6304-44c4-9e09-f6f14cbc21a3"
      },
      "execution_count": null,
      "outputs": [
        {
          "output_type": "stream",
          "name": "stdout",
          "text": [
            "[23.34925219 27.88755755 28.75558507 25.48723993 23.87257618 25.84368152]\n",
            "<class 'numpy.ndarray'>\n"
          ]
        }
      ]
    },
    {
      "cell_type": "markdown",
      "source": [
        "BMI 계산 시 위의 두 방식 중 어떤 것이 편한가요? 대용량 데이터 처리 시 속도는 NumPy가 확실히 빠릅니다.\n",
        "\n",
        "다음으로 리스트와 NumPy의 덧셈을 비교해봅시다."
      ],
      "metadata": {
        "id": "0u6mJoZ1L40P"
      }
    },
    {
      "cell_type": "code",
      "source": [
        "# 리스트 덧셈\n",
        "print(weight + height)\n",
        "\n",
        "# NumPy 배열 덧셈\n",
        "print(np_weight + np_height)"
      ],
      "metadata": {
        "id": "Ikbg1Kbt6at2",
        "colab": {
          "base_uri": "https://localhost:8080/"
        },
        "outputId": "b20c9675-4a26-4562-ca6e-b5e25782fa2c"
      },
      "execution_count": null,
      "outputs": [
        {
          "output_type": "stream",
          "name": "stdout",
          "text": [
            "[81.65, 97.52, 95.25, 92.98, 86.18, 88.45, 1.87, 1.87, 1.82, 1.91, 1.9, 1.85]\n",
            "[83.52 99.39 97.07 94.89 88.08 90.3 ]\n"
          ]
        }
      ]
    },
    {
      "cell_type": "markdown",
      "source": [
        "***TODO: 덧셈이 어떻게 수행되는지 아래에 적으세요.***\n",
        "\n",
        "1. 리스트: 원래 리스트에 새로운 리스트 내용들이 추가됩니다.\n",
        "2. NumPy 배열: 원래 리스트 원소들이 새로운 리스트의 원소들과 더해진 리스트가 생성됩니다."
      ],
      "metadata": {
        "id": "PN3wOwObMUoF"
      }
    },
    {
      "cell_type": "markdown",
      "source": [
        "## 원소 추려내기"
      ],
      "metadata": {
        "id": "hnac7Cr36wue"
      }
    },
    {
      "cell_type": "markdown",
      "source": [
        "***TODO: BMI 리스트에서 원소 추려내기 (NumPy 사용 금지)***"
      ],
      "metadata": {
        "id": "H1JRQy9iNHSb"
      }
    },
    {
      "cell_type": "code",
      "source": [
        "# TODO1: 각 인덱스의 BMI가 25보다 큰지 아닌지가 저장된 리스트를 만들어 출력하세요.\n",
        "# 예: [False, True, ...]\n",
        "result1 = [False]*len(bmi)\n",
        "for i in range(len(bmi)):\n",
        "    if bmi[i]>25: result1[i]=True\n",
        "print(result1)\n",
        "\n",
        "# TODO2: 25보다 큰 값의 BMI를 리스트로 만들어 출력하세요.\n",
        "# 예: [27.8876, 28.7556, ...]\n",
        "result2 = []\n",
        "for i in range(len(result1)):\n",
        "    if result1[i]==True:\n",
        "        result2.append(bmi[i])\n",
        "print(result2)"
      ],
      "metadata": {
        "id": "v_AfoSd1Nosp",
        "colab": {
          "base_uri": "https://localhost:8080/"
        },
        "outputId": "4e560c00-0f65-4b98-b6e8-796ee3928f31"
      },
      "execution_count": null,
      "outputs": [
        {
          "output_type": "stream",
          "name": "stdout",
          "text": [
            "[False, True, True, True, False, True]\n",
            "[27.887557550973714, 28.755585074266392, 25.48723993311587, 25.843681519357194]\n"
          ]
        }
      ]
    },
    {
      "cell_type": "markdown",
      "source": [
        "NumPy를 사용하면 아래와 같이 간단합니다!"
      ],
      "metadata": {
        "id": "GiSB0yl5O--7"
      }
    },
    {
      "cell_type": "code",
      "source": [
        "# For a boolean response\n",
        "print(np_bmi > 25)\n",
        "\n",
        "# Print only those observations above 25\n",
        "np_bmi[np_bmi > 25]"
      ],
      "metadata": {
        "id": "rtHZdTM064pa",
        "colab": {
          "base_uri": "https://localhost:8080/"
        },
        "outputId": "c8b67178-d9c5-4390-8b4d-68b5aea6e64d"
      },
      "execution_count": null,
      "outputs": [
        {
          "output_type": "stream",
          "name": "stdout",
          "text": [
            "[False  True  True  True False  True]\n"
          ]
        },
        {
          "output_type": "execute_result",
          "data": {
            "text/plain": [
              "array([27.88755755, 28.75558507, 25.48723993, 25.84368152])"
            ]
          },
          "metadata": {},
          "execution_count": 24
        }
      ]
    }
  ]
}